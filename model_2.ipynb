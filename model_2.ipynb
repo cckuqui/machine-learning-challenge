{
 "cells": [
  {
   "cell_type": "code",
   "execution_count": 1,
   "metadata": {},
   "outputs": [],
   "source": [
    "import pandas as pd"
   ]
  },
  {
   "cell_type": "markdown",
   "metadata": {},
   "source": [
    "# Read the CSV and Perform Basic Data Cleaning"
   ]
  },
  {
   "cell_type": "code",
   "execution_count": 2,
   "metadata": {},
   "outputs": [
    {
     "output_type": "execute_result",
     "data": {
      "text/plain": "Index(['koi_disposition', 'koi_fpflag_nt', 'koi_fpflag_ss', 'koi_fpflag_co',\n       'koi_fpflag_ec', 'koi_period', 'koi_period_err1', 'koi_period_err2',\n       'koi_time0bk', 'koi_time0bk_err1', 'koi_time0bk_err2', 'koi_impact',\n       'koi_impact_err1', 'koi_impact_err2', 'koi_duration',\n       'koi_duration_err1', 'koi_duration_err2', 'koi_depth', 'koi_depth_err1',\n       'koi_depth_err2', 'koi_prad', 'koi_prad_err1', 'koi_prad_err2',\n       'koi_teq', 'koi_insol', 'koi_insol_err1', 'koi_insol_err2',\n       'koi_model_snr', 'koi_tce_plnt_num', 'koi_steff', 'koi_steff_err1',\n       'koi_steff_err2', 'koi_slogg', 'koi_slogg_err1', 'koi_slogg_err2',\n       'koi_srad', 'koi_srad_err1', 'koi_srad_err2', 'ra', 'dec',\n       'koi_kepmag'],\n      dtype='object')"
     },
     "metadata": {},
     "execution_count": 2
    }
   ],
   "source": [
    "df = pd.read_csv(\"exoplanet_data.csv\")\n",
    "# Drop the null columns where all values are null\n",
    "df = df.dropna(axis='columns', how='all')\n",
    "# Drop the null rows\n",
    "df = df.dropna()\n",
    "df.columns"
   ]
  },
  {
   "cell_type": "markdown",
   "metadata": {},
   "source": [
    "# Select your features (columns)"
   ]
  },
  {
   "cell_type": "code",
   "execution_count": 3,
   "metadata": {},
   "outputs": [],
   "source": [
    "# Set features. This will also be used as your x values.\n",
    "selected_features = df[['koi_fpflag_nt', 'koi_fpflag_ss', 'koi_fpflag_co',\n",
    "       'koi_fpflag_ec', 'koi_period', 'koi_period_err1', 'koi_period_err2',\n",
    "       'koi_time0bk', 'koi_time0bk_err1', 'koi_time0bk_err2', 'koi_impact',\n",
    "       'koi_impact_err1', 'koi_impact_err2', 'koi_duration',\n",
    "       'koi_duration_err1', 'koi_duration_err2', 'koi_depth', 'koi_depth_err1',\n",
    "       'koi_depth_err2', 'koi_prad', 'koi_prad_err1', 'koi_prad_err2',\n",
    "       'koi_teq', 'koi_insol', 'koi_insol_err1', 'koi_insol_err2',\n",
    "       'koi_model_snr', 'koi_tce_plnt_num', 'koi_steff', 'koi_steff_err1',\n",
    "       'koi_steff_err2', 'koi_slogg', 'koi_slogg_err1', 'koi_slogg_err2',\n",
    "       'koi_srad', 'koi_srad_err1', 'koi_srad_err2', 'ra', 'dec',\n",
    "       'koi_kepmag']]\n",
    "x = selected_features"
   ]
  },
  {
   "cell_type": "markdown",
   "metadata": {},
   "source": [
    "# Create a Train Test Split\n",
    "\n",
    "Use `koi_disposition` for the y values"
   ]
  },
  {
   "cell_type": "code",
   "execution_count": 4,
   "metadata": {},
   "outputs": [],
   "source": [
    "y = df['koi_disposition']"
   ]
  },
  {
   "cell_type": "code",
   "execution_count": 5,
   "metadata": {},
   "outputs": [],
   "source": [
    "from sklearn.model_selection import train_test_split\n",
    "\n",
    "x_train, x_test, y_train, y_test = train_test_split(x, y, random_state=12)"
   ]
  },
  {
   "cell_type": "markdown",
   "metadata": {},
   "source": [
    "# Pre-processing\n",
    "\n",
    "Scale the data using the MinMaxScaler and perform some feature selection"
   ]
  },
  {
   "cell_type": "code",
   "execution_count": 6,
   "metadata": {
    "tags": []
   },
   "outputs": [
    {
     "output_type": "stream",
     "name": "stdout",
     "text": "[1 2 2 ... 0 2 2]\n"
    }
   ],
   "source": [
    "from sklearn.preprocessing import LabelEncoder, StandardScaler\n",
    "\n",
    "x_scaler = StandardScaler().fit(x_train)\n",
    "y_scaler = LabelEncoder().fit(y_train)\n",
    "\n",
    "x_train_scaled = x_scaler.transform(x_train)\n",
    "x_test_scaled = x_scaler.transform(x_test)\n",
    "y_train_scaled = y_scaler.transform(y_train)\n",
    "y_test_scaled = y_scaler.transform(y_test)\n",
    "\n",
    "print(y_test_scaled)"
   ]
  },
  {
   "cell_type": "markdown",
   "metadata": {},
   "source": [
    "# Train the Model\n",
    "\n"
   ]
  },
  {
   "cell_type": "code",
   "execution_count": 7,
   "metadata": {},
   "outputs": [
    {
     "output_type": "execute_result",
     "data": {
      "text/plain": "SVC(kernel='linear')"
     },
     "metadata": {},
     "execution_count": 7
    }
   ],
   "source": [
    "from sklearn.svm import SVC \n",
    "\n",
    "model = SVC(kernel='linear')\n",
    "model.fit(x_train_scaled, y_train_scaled)\n",
    "predictions = model.predict(x_test_scaled)\n",
    "model"
   ]
  },
  {
   "cell_type": "code",
   "execution_count": 8,
   "metadata": {
    "tags": []
   },
   "outputs": [
    {
     "output_type": "stream",
     "name": "stdout",
     "text": "Training Data Score: 0.8897577722677856\nTesting Data Score: 0.8947368421052632\n"
    }
   ],
   "source": [
    "print(f\"Training Data Score: {model.score(x_train_scaled, y_train_scaled)}\")\n",
    "print(f\"Testing Data Score: {model.score(x_test_scaled, y_test_scaled)}\")"
   ]
  },
  {
   "cell_type": "markdown",
   "metadata": {},
   "source": [
    "# Hyperparameter Tuning\n",
    "\n",
    "Use `GridSearchCV` to tune the model's parameters"
   ]
  },
  {
   "cell_type": "code",
   "execution_count": 9,
   "metadata": {
    "tags": []
   },
   "outputs": [],
   "source": [
    "# Create the GridSearchCV model\n",
    "from sklearn.model_selection import GridSearchCV\n",
    "param_grid = {'C': [1, 5, 10, 50],\n",
    "              'gamma': [0.0001, 0.0005, 0.001, 0.005]}\n",
    "grid = GridSearchCV(model, param_grid, verbose=3)\n"
   ]
  },
  {
   "cell_type": "code",
   "execution_count": 10,
   "metadata": {
    "tags": []
   },
   "outputs": [
    {
     "output_type": "stream",
     "name": "stdout",
     "text": "Fitting 5 folds for each of 16 candidates, totalling 80 fits\n[CV] C=1, gamma=0.0001 ...............................................\n[Parallel(n_jobs=1)]: Using backend SequentialBackend with 1 concurrent workers.\n[CV] ................... C=1, gamma=0.0001, score=0.890, total=   1.1s\n[CV] C=1, gamma=0.0001 ...............................................\n[Parallel(n_jobs=1)]: Done   1 out of   1 | elapsed:    1.0s remaining:    0.0s\n[CV] ................... C=1, gamma=0.0001, score=0.888, total=   0.9s\n[CV] C=1, gamma=0.0001 ...............................................\n[Parallel(n_jobs=1)]: Done   2 out of   2 | elapsed:    1.9s remaining:    0.0s\n[CV] ................... C=1, gamma=0.0001, score=0.885, total=   1.9s\n[CV] C=1, gamma=0.0001 ...............................................\n[CV] ................... C=1, gamma=0.0001, score=0.893, total=   1.0s\n[CV] C=1, gamma=0.0001 ...............................................\n[CV] ................... C=1, gamma=0.0001, score=0.880, total=   0.8s\n[CV] C=1, gamma=0.0005 ...............................................\n[CV] ................... C=1, gamma=0.0005, score=0.890, total=   1.0s\n[CV] C=1, gamma=0.0005 ...............................................\n[CV] ................... C=1, gamma=0.0005, score=0.888, total=   0.8s\n[CV] C=1, gamma=0.0005 ...............................................\n[CV] ................... C=1, gamma=0.0005, score=0.885, total=   0.9s\n[CV] C=1, gamma=0.0005 ...............................................\n[CV] ................... C=1, gamma=0.0005, score=0.893, total=   1.2s\n[CV] C=1, gamma=0.0005 ...............................................\n[CV] ................... C=1, gamma=0.0005, score=0.880, total=   0.8s\n[CV] C=1, gamma=0.001 ................................................\n[CV] .................... C=1, gamma=0.001, score=0.890, total=   0.9s\n[CV] C=1, gamma=0.001 ................................................\n[CV] .................... C=1, gamma=0.001, score=0.888, total=   0.8s\n[CV] C=1, gamma=0.001 ................................................\n[CV] .................... C=1, gamma=0.001, score=0.885, total=   0.8s\n[CV] C=1, gamma=0.001 ................................................\n[CV] .................... C=1, gamma=0.001, score=0.893, total=   0.8s\n[CV] C=1, gamma=0.001 ................................................\n[CV] .................... C=1, gamma=0.001, score=0.880, total=   0.8s\n[CV] C=1, gamma=0.005 ................................................\n[CV] .................... C=1, gamma=0.005, score=0.890, total=   0.9s\n[CV] C=1, gamma=0.005 ................................................\n[CV] .................... C=1, gamma=0.005, score=0.888, total=   0.8s\n[CV] C=1, gamma=0.005 ................................................\n[CV] .................... C=1, gamma=0.005, score=0.885, total=   0.8s\n[CV] C=1, gamma=0.005 ................................................\n[CV] .................... C=1, gamma=0.005, score=0.893, total=   0.8s\n[CV] C=1, gamma=0.005 ................................................\n[CV] .................... C=1, gamma=0.005, score=0.880, total=   0.7s\n[CV] C=5, gamma=0.0001 ...............................................\n[CV] ................... C=5, gamma=0.0001, score=0.892, total=   2.0s\n[CV] C=5, gamma=0.0001 ...............................................\n[CV] ................... C=5, gamma=0.0001, score=0.888, total=   1.2s\n[CV] C=5, gamma=0.0001 ...............................................\n[CV] ................... C=5, gamma=0.0001, score=0.884, total=   1.5s\n[CV] C=5, gamma=0.0001 ...............................................\n[CV] ................... C=5, gamma=0.0001, score=0.890, total=   2.5s\n[CV] C=5, gamma=0.0001 ...............................................\n[CV] ................... C=5, gamma=0.0001, score=0.885, total=   1.4s\n[CV] C=5, gamma=0.0005 ...............................................\n[CV] ................... C=5, gamma=0.0005, score=0.892, total=   2.2s\n[CV] C=5, gamma=0.0005 ...............................................\n[CV] ................... C=5, gamma=0.0005, score=0.888, total=   1.3s\n[CV] C=5, gamma=0.0005 ...............................................\n[CV] ................... C=5, gamma=0.0005, score=0.884, total=   1.8s\n[CV] C=5, gamma=0.0005 ...............................................\n[CV] ................... C=5, gamma=0.0005, score=0.890, total=   2.7s\n[CV] C=5, gamma=0.0005 ...............................................\n[CV] ................... C=5, gamma=0.0005, score=0.885, total=   1.4s\n[CV] C=5, gamma=0.001 ................................................\n[CV] .................... C=5, gamma=0.001, score=0.892, total=   2.1s\n[CV] C=5, gamma=0.001 ................................................\n[CV] .................... C=5, gamma=0.001, score=0.888, total=   1.3s\n[CV] C=5, gamma=0.001 ................................................\n[CV] .................... C=5, gamma=0.001, score=0.884, total=   1.8s\n[CV] C=5, gamma=0.001 ................................................\n[CV] .................... C=5, gamma=0.001, score=0.890, total=   2.0s\n[CV] C=5, gamma=0.001 ................................................\n[CV] .................... C=5, gamma=0.001, score=0.885, total=   1.4s\n[CV] C=5, gamma=0.005 ................................................\n[CV] .................... C=5, gamma=0.005, score=0.892, total=   2.1s\n[CV] C=5, gamma=0.005 ................................................\n[CV] .................... C=5, gamma=0.005, score=0.888, total=   1.3s\n[CV] C=5, gamma=0.005 ................................................\n[CV] .................... C=5, gamma=0.005, score=0.884, total=   1.6s\n[CV] C=5, gamma=0.005 ................................................\n[CV] .................... C=5, gamma=0.005, score=0.890, total=   1.9s\n[CV] C=5, gamma=0.005 ................................................\n[CV] .................... C=5, gamma=0.005, score=0.885, total=   1.3s\n[CV] C=10, gamma=0.0001 ..............................................\n[CV] .................. C=10, gamma=0.0001, score=0.890, total=   2.7s\n[CV] C=10, gamma=0.0001 ..............................................\n[CV] .................. C=10, gamma=0.0001, score=0.888, total=   2.6s\n[CV] C=10, gamma=0.0001 ..............................................\n[CV] .................. C=10, gamma=0.0001, score=0.882, total=   3.8s\n[CV] C=10, gamma=0.0001 ..............................................\n[CV] .................. C=10, gamma=0.0001, score=0.890, total=   2.6s\n[CV] C=10, gamma=0.0001 ..............................................\n[CV] .................. C=10, gamma=0.0001, score=0.885, total=   1.8s\n[CV] C=10, gamma=0.0005 ..............................................\n[CV] .................. C=10, gamma=0.0005, score=0.890, total=   2.9s\n[CV] C=10, gamma=0.0005 ..............................................\n[CV] .................. C=10, gamma=0.0005, score=0.888, total=   2.6s\n[CV] C=10, gamma=0.0005 ..............................................\n[CV] .................. C=10, gamma=0.0005, score=0.882, total=   3.4s\n[CV] C=10, gamma=0.0005 ..............................................\n[CV] .................. C=10, gamma=0.0005, score=0.890, total=   3.0s\n[CV] C=10, gamma=0.0005 ..............................................\n[CV] .................. C=10, gamma=0.0005, score=0.885, total=   1.7s\n[CV] C=10, gamma=0.001 ...............................................\n[CV] ................... C=10, gamma=0.001, score=0.890, total=   2.7s\n[CV] C=10, gamma=0.001 ...............................................\n[CV] ................... C=10, gamma=0.001, score=0.888, total=   2.5s\n[CV] C=10, gamma=0.001 ...............................................\n[CV] ................... C=10, gamma=0.001, score=0.882, total=   3.0s\n[CV] C=10, gamma=0.001 ...............................................\n[CV] ................... C=10, gamma=0.001, score=0.890, total=   2.5s\n[CV] C=10, gamma=0.001 ...............................................\n[CV] ................... C=10, gamma=0.001, score=0.885, total=   1.6s\n[CV] C=10, gamma=0.005 ...............................................\n[CV] ................... C=10, gamma=0.005, score=0.890, total=   2.7s\n[CV] C=10, gamma=0.005 ...............................................\n[CV] ................... C=10, gamma=0.005, score=0.888, total=   2.5s\n[CV] C=10, gamma=0.005 ...............................................\n[CV] ................... C=10, gamma=0.005, score=0.882, total=   3.0s\n[CV] C=10, gamma=0.005 ...............................................\n[CV] ................... C=10, gamma=0.005, score=0.890, total=   2.5s\n[CV] C=10, gamma=0.005 ...............................................\n[CV] ................... C=10, gamma=0.005, score=0.885, total=   1.7s\n[CV] C=50, gamma=0.0001 ..............................................\n[CV] .................. C=50, gamma=0.0001, score=0.890, total=   7.4s\n[CV] C=50, gamma=0.0001 ..............................................\n[CV] .................. C=50, gamma=0.0001, score=0.888, total=   7.5s\n[CV] C=50, gamma=0.0001 ..............................................\n[CV] .................. C=50, gamma=0.0001, score=0.879, total=   7.9s\n[CV] C=50, gamma=0.0001 ..............................................\n[CV] .................. C=50, gamma=0.0001, score=0.888, total=   7.2s\n[CV] C=50, gamma=0.0001 ..............................................\n[CV] .................. C=50, gamma=0.0001, score=0.882, total=   5.8s\n[CV] C=50, gamma=0.0005 ..............................................\n[CV] .................. C=50, gamma=0.0005, score=0.890, total=   7.5s\n[CV] C=50, gamma=0.0005 ..............................................\n[CV] .................. C=50, gamma=0.0005, score=0.888, total=   7.4s\n[CV] C=50, gamma=0.0005 ..............................................\n[CV] .................. C=50, gamma=0.0005, score=0.879, total=   7.3s\n[CV] C=50, gamma=0.0005 ..............................................\n[CV] .................. C=50, gamma=0.0005, score=0.888, total=   6.9s\n[CV] C=50, gamma=0.0005 ..............................................\n[CV] .................. C=50, gamma=0.0005, score=0.882, total=   6.0s\n[CV] C=50, gamma=0.001 ...............................................\n[CV] ................... C=50, gamma=0.001, score=0.890, total=   7.5s\n[CV] C=50, gamma=0.001 ...............................................\n[CV] ................... C=50, gamma=0.001, score=0.888, total=   8.1s\n[CV] C=50, gamma=0.001 ...............................................\n[CV] ................... C=50, gamma=0.001, score=0.879, total=   7.4s\n[CV] C=50, gamma=0.001 ...............................................\n[CV] ................... C=50, gamma=0.001, score=0.888, total=   7.7s\n[CV] C=50, gamma=0.001 ...............................................\n[CV] ................... C=50, gamma=0.001, score=0.882, total=   5.9s\n[CV] C=50, gamma=0.005 ...............................................\n[CV] ................... C=50, gamma=0.005, score=0.890, total=   7.5s\n[CV] C=50, gamma=0.005 ...............................................\n[CV] ................... C=50, gamma=0.005, score=0.888, total=   7.4s\n[CV] C=50, gamma=0.005 ...............................................\n[CV] ................... C=50, gamma=0.005, score=0.879, total=   7.3s\n[CV] C=50, gamma=0.005 ...............................................\n[CV] ................... C=50, gamma=0.005, score=0.888, total=   7.1s\n[CV] C=50, gamma=0.005 ...............................................\n[CV] ................... C=50, gamma=0.005, score=0.882, total=   6.2s\n[Parallel(n_jobs=1)]: Done  80 out of  80 | elapsed:  4.1min finished\n"
    },
    {
     "output_type": "execute_result",
     "data": {
      "text/plain": "GridSearchCV(estimator=SVC(kernel='linear'),\n             param_grid={'C': [1, 5, 10, 50],\n                         'gamma': [0.0001, 0.0005, 0.001, 0.005]},\n             verbose=3)"
     },
     "metadata": {},
     "execution_count": 10
    }
   ],
   "source": [
    "# Train the model with GridSearch\n",
    "grid.fit(x_train_scaled, y_train_scaled)"
   ]
  },
  {
   "cell_type": "code",
   "execution_count": 11,
   "metadata": {
    "tags": []
   },
   "outputs": [
    {
     "output_type": "stream",
     "name": "stdout",
     "text": "{'C': 5, 'gamma': 0.0001}\n0.8878502972660257\n"
    }
   ],
   "source": [
    "print(grid.best_params_)\n",
    "print(grid.best_score_)"
   ]
  },
  {
   "cell_type": "markdown",
   "metadata": {},
   "source": [
    "# Save the Model"
   ]
  },
  {
   "cell_type": "code",
   "execution_count": 12,
   "metadata": {},
   "outputs": [
    {
     "output_type": "execute_result",
     "data": {
      "text/plain": "['model2.sav']"
     },
     "metadata": {},
     "execution_count": 12
    }
   ],
   "source": [
    "# save your model by updating \"your_name\" with your name\n",
    "# and \"your_model\" with your model variable\n",
    "# be sure to turn this in to BCS\n",
    "# if joblib fails to import, try running the command to install in terminal/git-bash\n",
    "import joblib\n",
    "filename = 'model2.sav'\n",
    "joblib.dump(model, filename)"
   ]
  }
 ],
 "metadata": {
  "kernel_info": {
   "name": "dev"
  },
  "kernelspec": {
   "display_name": "Python 3.8.3 64-bit",
   "language": "python",
   "name": "python38364bit78259f9f5bf9498e9eb367b28d2acc8c"
  },
  "language_info": {
   "codemirror_mode": {
    "name": "ipython",
    "version": 3
   },
   "file_extension": ".py",
   "mimetype": "text/x-python",
   "name": "python",
   "nbconvert_exporter": "python",
   "pygments_lexer": "ipython3",
   "version": "3.8.3-final"
  },
  "nteract": {
   "version": "0.12.3"
  }
 },
 "nbformat": 4,
 "nbformat_minor": 2
}