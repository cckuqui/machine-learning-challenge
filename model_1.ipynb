{
 "cells": [
  {
   "cell_type": "code",
   "execution_count": 1,
   "metadata": {},
   "outputs": [],
   "source": [
    "import pandas as pd"
   ]
  },
  {
   "cell_type": "markdown",
   "metadata": {},
   "source": [
    "# Read the CSV and Perform Basic Data Cleaning"
   ]
  },
  {
   "cell_type": "code",
   "execution_count": 2,
   "metadata": {},
   "outputs": [
    {
     "output_type": "execute_result",
     "data": {
      "text/plain": "  koi_disposition  koi_fpflag_nt  koi_fpflag_ss  koi_fpflag_co  koi_fpflag_ec  \\\n0       CONFIRMED              0              0              0              0   \n1  FALSE POSITIVE              0              1              0              0   \n2  FALSE POSITIVE              0              1              0              0   \n3       CONFIRMED              0              0              0              0   \n4       CONFIRMED              0              0              0              0   \n\n   koi_period  koi_period_err1  koi_period_err2  koi_time0bk  \\\n0   54.418383     2.479000e-04    -2.479000e-04   162.513840   \n1   19.899140     1.490000e-05    -1.490000e-05   175.850252   \n2    1.736952     2.630000e-07    -2.630000e-07   170.307565   \n3    2.525592     3.760000e-06    -3.760000e-06   171.595550   \n4    4.134435     1.050000e-05    -1.050000e-05   172.979370   \n\n   koi_time0bk_err1  ...  koi_steff_err2  koi_slogg  koi_slogg_err1  \\\n0          0.003520  ...             -81      4.467           0.064   \n1          0.000581  ...            -176      4.544           0.044   \n2          0.000115  ...            -174      4.564           0.053   \n3          0.001130  ...            -211      4.438           0.070   \n4          0.001900  ...            -232      4.486           0.054   \n\n   koi_slogg_err2  koi_srad  koi_srad_err1  koi_srad_err2         ra  \\\n0          -0.096     0.927          0.105         -0.061  291.93423   \n1          -0.176     0.868          0.233         -0.078  297.00482   \n2          -0.168     0.791          0.201         -0.067  285.53461   \n3          -0.210     1.046          0.334         -0.133  288.75488   \n4          -0.229     0.972          0.315         -0.105  296.28613   \n\n         dec  koi_kepmag  \n0  48.141651      15.347  \n1  48.134129      15.436  \n2  48.285210      15.597  \n3  48.226200      15.509  \n4  48.224670      15.714  \n\n[5 rows x 41 columns]",
      "text/html": "<div>\n<style scoped>\n    .dataframe tbody tr th:only-of-type {\n        vertical-align: middle;\n    }\n\n    .dataframe tbody tr th {\n        vertical-align: top;\n    }\n\n    .dataframe thead th {\n        text-align: right;\n    }\n</style>\n<table border=\"1\" class=\"dataframe\">\n  <thead>\n    <tr style=\"text-align: right;\">\n      <th></th>\n      <th>koi_disposition</th>\n      <th>koi_fpflag_nt</th>\n      <th>koi_fpflag_ss</th>\n      <th>koi_fpflag_co</th>\n      <th>koi_fpflag_ec</th>\n      <th>koi_period</th>\n      <th>koi_period_err1</th>\n      <th>koi_period_err2</th>\n      <th>koi_time0bk</th>\n      <th>koi_time0bk_err1</th>\n      <th>...</th>\n      <th>koi_steff_err2</th>\n      <th>koi_slogg</th>\n      <th>koi_slogg_err1</th>\n      <th>koi_slogg_err2</th>\n      <th>koi_srad</th>\n      <th>koi_srad_err1</th>\n      <th>koi_srad_err2</th>\n      <th>ra</th>\n      <th>dec</th>\n      <th>koi_kepmag</th>\n    </tr>\n  </thead>\n  <tbody>\n    <tr>\n      <th>0</th>\n      <td>CONFIRMED</td>\n      <td>0</td>\n      <td>0</td>\n      <td>0</td>\n      <td>0</td>\n      <td>54.418383</td>\n      <td>2.479000e-04</td>\n      <td>-2.479000e-04</td>\n      <td>162.513840</td>\n      <td>0.003520</td>\n      <td>...</td>\n      <td>-81</td>\n      <td>4.467</td>\n      <td>0.064</td>\n      <td>-0.096</td>\n      <td>0.927</td>\n      <td>0.105</td>\n      <td>-0.061</td>\n      <td>291.93423</td>\n      <td>48.141651</td>\n      <td>15.347</td>\n    </tr>\n    <tr>\n      <th>1</th>\n      <td>FALSE POSITIVE</td>\n      <td>0</td>\n      <td>1</td>\n      <td>0</td>\n      <td>0</td>\n      <td>19.899140</td>\n      <td>1.490000e-05</td>\n      <td>-1.490000e-05</td>\n      <td>175.850252</td>\n      <td>0.000581</td>\n      <td>...</td>\n      <td>-176</td>\n      <td>4.544</td>\n      <td>0.044</td>\n      <td>-0.176</td>\n      <td>0.868</td>\n      <td>0.233</td>\n      <td>-0.078</td>\n      <td>297.00482</td>\n      <td>48.134129</td>\n      <td>15.436</td>\n    </tr>\n    <tr>\n      <th>2</th>\n      <td>FALSE POSITIVE</td>\n      <td>0</td>\n      <td>1</td>\n      <td>0</td>\n      <td>0</td>\n      <td>1.736952</td>\n      <td>2.630000e-07</td>\n      <td>-2.630000e-07</td>\n      <td>170.307565</td>\n      <td>0.000115</td>\n      <td>...</td>\n      <td>-174</td>\n      <td>4.564</td>\n      <td>0.053</td>\n      <td>-0.168</td>\n      <td>0.791</td>\n      <td>0.201</td>\n      <td>-0.067</td>\n      <td>285.53461</td>\n      <td>48.285210</td>\n      <td>15.597</td>\n    </tr>\n    <tr>\n      <th>3</th>\n      <td>CONFIRMED</td>\n      <td>0</td>\n      <td>0</td>\n      <td>0</td>\n      <td>0</td>\n      <td>2.525592</td>\n      <td>3.760000e-06</td>\n      <td>-3.760000e-06</td>\n      <td>171.595550</td>\n      <td>0.001130</td>\n      <td>...</td>\n      <td>-211</td>\n      <td>4.438</td>\n      <td>0.070</td>\n      <td>-0.210</td>\n      <td>1.046</td>\n      <td>0.334</td>\n      <td>-0.133</td>\n      <td>288.75488</td>\n      <td>48.226200</td>\n      <td>15.509</td>\n    </tr>\n    <tr>\n      <th>4</th>\n      <td>CONFIRMED</td>\n      <td>0</td>\n      <td>0</td>\n      <td>0</td>\n      <td>0</td>\n      <td>4.134435</td>\n      <td>1.050000e-05</td>\n      <td>-1.050000e-05</td>\n      <td>172.979370</td>\n      <td>0.001900</td>\n      <td>...</td>\n      <td>-232</td>\n      <td>4.486</td>\n      <td>0.054</td>\n      <td>-0.229</td>\n      <td>0.972</td>\n      <td>0.315</td>\n      <td>-0.105</td>\n      <td>296.28613</td>\n      <td>48.224670</td>\n      <td>15.714</td>\n    </tr>\n  </tbody>\n</table>\n<p>5 rows × 41 columns</p>\n</div>"
     },
     "metadata": {},
     "execution_count": 2
    }
   ],
   "source": [
    "df = pd.read_csv(\"exoplanet_data.csv\")\n",
    "# Drop the null columns where all values are null\n",
    "df = df.dropna(axis='columns', how='all')\n",
    "# Drop the null rows\n",
    "df = df.dropna()\n",
    "df.head()"
   ]
  },
  {
   "cell_type": "code",
   "execution_count": 4,
   "metadata": {},
   "outputs": [
    {
     "output_type": "execute_result",
     "data": {
      "text/plain": "Index(['koi_disposition', 'koi_fpflag_nt', 'koi_fpflag_ss', 'koi_fpflag_co',\n       'koi_fpflag_ec', 'koi_period', 'koi_period_err1', 'koi_period_err2',\n       'koi_time0bk', 'koi_time0bk_err1', 'koi_time0bk_err2', 'koi_impact',\n       'koi_impact_err1', 'koi_impact_err2', 'koi_duration',\n       'koi_duration_err1', 'koi_duration_err2', 'koi_depth', 'koi_depth_err1',\n       'koi_depth_err2', 'koi_prad', 'koi_prad_err1', 'koi_prad_err2',\n       'koi_teq', 'koi_insol', 'koi_insol_err1', 'koi_insol_err2',\n       'koi_model_snr', 'koi_tce_plnt_num', 'koi_steff', 'koi_steff_err1',\n       'koi_steff_err2', 'koi_slogg', 'koi_slogg_err1', 'koi_slogg_err2',\n       'koi_srad', 'koi_srad_err1', 'koi_srad_err2', 'ra', 'dec',\n       'koi_kepmag'],\n      dtype='object')"
     },
     "metadata": {},
     "execution_count": 4
    }
   ],
   "source": [
    "df.columns"
   ]
  },
  {
   "cell_type": "markdown",
   "metadata": {},
   "source": [
    "# Select your features (columns)"
   ]
  },
  {
   "cell_type": "code",
   "execution_count": 7,
   "metadata": {},
   "outputs": [],
   "source": [
    "# Set features. This will also be used as your x values.\n",
    "selected_features = df[['koi_period', 'koi_time0bk', 'koi_impact', 'koi_duration', 'koi_depth','koi_teq','koi_insol','koi_model_snr', 'koi_tce_plnt_num', 'koi_steff','koi_slogg','koi_srad','ra','dec','koi_kepmag']]\n",
    "x = selected_features"
   ]
  },
  {
   "cell_type": "markdown",
   "metadata": {},
   "source": [
    "# Create a Train Test Split\n",
    "\n",
    "Use `koi_disposition` for the y values"
   ]
  },
  {
   "cell_type": "code",
   "execution_count": 8,
   "metadata": {},
   "outputs": [],
   "source": [
    "y = df['koi_disposition']"
   ]
  },
  {
   "cell_type": "code",
   "execution_count": 9,
   "metadata": {},
   "outputs": [],
   "source": [
    "from sklearn.model_selection import train_test_split\n",
    "\n",
    "x_train, x_test, y_train, y_test = train_test_split(x, y, random_state=24)"
   ]
  },
  {
   "cell_type": "code",
   "execution_count": 11,
   "metadata": {},
   "outputs": [
    {
     "output_type": "execute_result",
     "data": {
      "text/plain": "      koi_period  koi_time0bk  koi_impact  koi_duration  koi_depth  koi_teq  \\\n4124    0.643469   131.838680       0.266        1.1108      108.0     2001   \n526    19.254040   164.784240       0.548        4.6509      987.7      657   \n334     4.778003   124.061465       0.020        2.7361      473.0      932   \n6580    0.933739   132.470700       0.259        4.1560       39.6     1993   \n4748   53.554546   160.398300       0.620        5.5330      127.6      769   \n\n      koi_insol  koi_model_snr  koi_tce_plnt_num  koi_steff  koi_slogg  \\\n4124    3772.66           19.6                 1       5670      4.452   \n526       44.17           50.7                 1       5798      4.507   \n334      177.79          115.4                 2       5192      4.489   \n6580    3723.37           10.5                 1       6223      4.459   \n4748      82.79            8.9                 1       6039      3.760   \n\n      koi_srad         ra        dec  koi_kepmag  \n4124     0.843  293.31952  50.364262      14.658  \n526      0.941  286.35806  42.406509      15.368  \n334      0.873  299.13922  40.949020      13.040  \n6580     1.006  292.13193  47.563740      15.194  \n4748     2.622  283.37384  43.801361      11.470  ",
      "text/html": "<div>\n<style scoped>\n    .dataframe tbody tr th:only-of-type {\n        vertical-align: middle;\n    }\n\n    .dataframe tbody tr th {\n        vertical-align: top;\n    }\n\n    .dataframe thead th {\n        text-align: right;\n    }\n</style>\n<table border=\"1\" class=\"dataframe\">\n  <thead>\n    <tr style=\"text-align: right;\">\n      <th></th>\n      <th>koi_period</th>\n      <th>koi_time0bk</th>\n      <th>koi_impact</th>\n      <th>koi_duration</th>\n      <th>koi_depth</th>\n      <th>koi_teq</th>\n      <th>koi_insol</th>\n      <th>koi_model_snr</th>\n      <th>koi_tce_plnt_num</th>\n      <th>koi_steff</th>\n      <th>koi_slogg</th>\n      <th>koi_srad</th>\n      <th>ra</th>\n      <th>dec</th>\n      <th>koi_kepmag</th>\n    </tr>\n  </thead>\n  <tbody>\n    <tr>\n      <th>4124</th>\n      <td>0.643469</td>\n      <td>131.838680</td>\n      <td>0.266</td>\n      <td>1.1108</td>\n      <td>108.0</td>\n      <td>2001</td>\n      <td>3772.66</td>\n      <td>19.6</td>\n      <td>1</td>\n      <td>5670</td>\n      <td>4.452</td>\n      <td>0.843</td>\n      <td>293.31952</td>\n      <td>50.364262</td>\n      <td>14.658</td>\n    </tr>\n    <tr>\n      <th>526</th>\n      <td>19.254040</td>\n      <td>164.784240</td>\n      <td>0.548</td>\n      <td>4.6509</td>\n      <td>987.7</td>\n      <td>657</td>\n      <td>44.17</td>\n      <td>50.7</td>\n      <td>1</td>\n      <td>5798</td>\n      <td>4.507</td>\n      <td>0.941</td>\n      <td>286.35806</td>\n      <td>42.406509</td>\n      <td>15.368</td>\n    </tr>\n    <tr>\n      <th>334</th>\n      <td>4.778003</td>\n      <td>124.061465</td>\n      <td>0.020</td>\n      <td>2.7361</td>\n      <td>473.0</td>\n      <td>932</td>\n      <td>177.79</td>\n      <td>115.4</td>\n      <td>2</td>\n      <td>5192</td>\n      <td>4.489</td>\n      <td>0.873</td>\n      <td>299.13922</td>\n      <td>40.949020</td>\n      <td>13.040</td>\n    </tr>\n    <tr>\n      <th>6580</th>\n      <td>0.933739</td>\n      <td>132.470700</td>\n      <td>0.259</td>\n      <td>4.1560</td>\n      <td>39.6</td>\n      <td>1993</td>\n      <td>3723.37</td>\n      <td>10.5</td>\n      <td>1</td>\n      <td>6223</td>\n      <td>4.459</td>\n      <td>1.006</td>\n      <td>292.13193</td>\n      <td>47.563740</td>\n      <td>15.194</td>\n    </tr>\n    <tr>\n      <th>4748</th>\n      <td>53.554546</td>\n      <td>160.398300</td>\n      <td>0.620</td>\n      <td>5.5330</td>\n      <td>127.6</td>\n      <td>769</td>\n      <td>82.79</td>\n      <td>8.9</td>\n      <td>1</td>\n      <td>6039</td>\n      <td>3.760</td>\n      <td>2.622</td>\n      <td>283.37384</td>\n      <td>43.801361</td>\n      <td>11.470</td>\n    </tr>\n  </tbody>\n</table>\n</div>"
     },
     "metadata": {},
     "execution_count": 11
    }
   ],
   "source": [
    "x_train.head()"
   ]
  },
  {
   "cell_type": "markdown",
   "metadata": {},
   "source": [
    "# Pre-processing\n",
    "\n",
    "Scale the data using the MinMaxScaler and perform some feature selection"
   ]
  },
  {
   "cell_type": "code",
   "execution_count": null,
   "metadata": {},
   "outputs": [],
   "source": [
    "# Scale your data"
   ]
  },
  {
   "cell_type": "markdown",
   "metadata": {},
   "source": [
    "# Train the Model\n",
    "\n"
   ]
  },
  {
   "cell_type": "code",
   "execution_count": null,
   "metadata": {},
   "outputs": [],
   "source": [
    "print(f\"Training Data Score: {model2.score(X_train_scaled, y_train)}\")\n",
    "print(f\"Testing Data Score: {model2.score(X_test_scaled, y_test)}\")"
   ]
  },
  {
   "cell_type": "markdown",
   "metadata": {},
   "source": [
    "# Hyperparameter Tuning\n",
    "\n",
    "Use `GridSearchCV` to tune the model's parameters"
   ]
  },
  {
   "cell_type": "code",
   "execution_count": null,
   "metadata": {},
   "outputs": [],
   "source": [
    "# Create the GridSearchCV model"
   ]
  },
  {
   "cell_type": "code",
   "execution_count": null,
   "metadata": {},
   "outputs": [],
   "source": [
    "# Train the model with GridSearch"
   ]
  },
  {
   "cell_type": "code",
   "execution_count": null,
   "metadata": {},
   "outputs": [],
   "source": [
    "print(grid2.best_params_)\n",
    "print(grid2.best_score_)"
   ]
  },
  {
   "cell_type": "markdown",
   "metadata": {},
   "source": [
    "# Save the Model"
   ]
  },
  {
   "cell_type": "code",
   "execution_count": null,
   "metadata": {},
   "outputs": [],
   "source": [
    "# save your model by updating \"your_name\" with your name\n",
    "# and \"your_model\" with your model variable\n",
    "# be sure to turn this in to BCS\n",
    "# if joblib fails to import, try running the command to install in terminal/git-bash\n",
    "import joblib\n",
    "filename = 'your_name.sav'\n",
    "joblib.dump(your_model, filename)"
   ]
  }
 ],
 "metadata": {
  "kernel_info": {
   "name": "dev"
  },
  "kernelspec": {
   "display_name": "Python 3.8.3 64-bit",
   "language": "python",
   "name": "python38364bit78259f9f5bf9498e9eb367b28d2acc8c"
  },
  "language_info": {
   "codemirror_mode": {
    "name": "ipython",
    "version": 3
   },
   "file_extension": ".py",
   "mimetype": "text/x-python",
   "name": "python",
   "nbconvert_exporter": "python",
   "pygments_lexer": "ipython3",
   "version": "3.8.3-final"
  },
  "nteract": {
   "version": "0.12.3"
  }
 },
 "nbformat": 4,
 "nbformat_minor": 2
}