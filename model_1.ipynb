{
 "cells": [
  {
   "cell_type": "code",
   "execution_count": 1,
   "metadata": {},
   "outputs": [],
   "source": [
    "import pandas as pd"
   ]
  },
  {
   "cell_type": "markdown",
   "metadata": {},
   "source": [
    "# Read the CSV and Perform Basic Data Cleaning"
   ]
  },
  {
   "cell_type": "code",
   "execution_count": 2,
   "metadata": {},
   "outputs": [],
   "source": [
    "df = pd.read_csv(\"exoplanet_data.csv\")\n",
    "# Drop the null columns where all values are null\n",
    "df = df.dropna(axis='columns', how='all')\n",
    "# Drop the null rows\n",
    "df = df.dropna()\n",
    "# df.head()"
   ]
  },
  {
   "cell_type": "markdown",
   "metadata": {},
   "source": [
    "# Select your features (columns)"
   ]
  },
  {
   "cell_type": "code",
   "execution_count": 3,
   "metadata": {},
   "outputs": [],
   "source": [
    "# Set features. This will also be used as your x values.\n",
    "selected_features = df[['koi_period', 'koi_time0bk', 'koi_impact', 'koi_duration', 'koi_depth','koi_teq','koi_insol','koi_model_snr', 'koi_tce_plnt_num', 'koi_steff','koi_slogg','koi_srad','ra','dec','koi_kepmag']]\n",
    "x = selected_features"
   ]
  },
  {
   "cell_type": "markdown",
   "metadata": {},
   "source": [
    "# Create a Train Test Split\n",
    "\n",
    "Use `koi_disposition` for the y values"
   ]
  },
  {
   "cell_type": "code",
   "execution_count": 4,
   "metadata": {},
   "outputs": [],
   "source": [
    "y = df['koi_disposition']"
   ]
  },
  {
   "cell_type": "code",
   "execution_count": 5,
   "metadata": {},
   "outputs": [],
   "source": [
    "from sklearn.model_selection import train_test_split\n",
    "\n",
    "x_train, x_test, y_train, y_test = train_test_split(x, y, random_state=12)"
   ]
  },
  {
   "cell_type": "markdown",
   "metadata": {},
   "source": [
    "# Pre-processing\n",
    "\n",
    "Scale the data using the MinMaxScaler and perform some feature selection"
   ]
  },
  {
   "cell_type": "code",
   "execution_count": 6,
   "metadata": {
    "tags": []
   },
   "outputs": [
    {
     "output_type": "stream",
     "name": "stdout",
     "text": "[1 2 2 ... 0 2 2]\n"
    }
   ],
   "source": [
    "from sklearn.preprocessing import LabelEncoder, StandardScaler\n",
    "\n",
    "x_scaler = StandardScaler().fit(x_train)\n",
    "y_scaler = LabelEncoder().fit(y_train)\n",
    "\n",
    "x_train_scaled = x_scaler.transform(x_train)\n",
    "x_test_scaled = x_scaler.transform(x_test)\n",
    "y_train_scaled = y_scaler.transform(y_train)\n",
    "y_test_scaled = y_scaler.transform(y_test)\n",
    "\n",
    "print(y_test_scaled)"
   ]
  },
  {
   "cell_type": "markdown",
   "metadata": {},
   "source": [
    "# Train the Model\n",
    "\n"
   ]
  },
  {
   "cell_type": "code",
   "execution_count": 7,
   "metadata": {},
   "outputs": [
    {
     "output_type": "execute_result",
     "data": {
      "text/plain": "SVC(kernel='linear')"
     },
     "metadata": {},
     "execution_count": 7
    }
   ],
   "source": [
    "from sklearn.svm import SVC \n",
    "\n",
    "model = SVC(kernel='linear')\n",
    "model.fit(x_train_scaled, y_train_scaled)\n",
    "predictions = model.predict(x_test_scaled)\n",
    "model"
   ]
  },
  {
   "cell_type": "code",
   "execution_count": 8,
   "metadata": {
    "tags": []
   },
   "outputs": [
    {
     "output_type": "stream",
     "name": "stdout",
     "text": "Training Data Score: 0.6652679763494183\nTesting Data Score: 0.6590389016018307\n"
    }
   ],
   "source": [
    "print(f\"Training Data Score: {model.score(x_train_scaled, y_train_scaled)}\")\n",
    "print(f\"Testing Data Score: {model.score(x_test_scaled, y_test_scaled)}\")"
   ]
  },
  {
   "cell_type": "markdown",
   "metadata": {},
   "source": [
    "# Hyperparameter Tuning\n",
    "\n",
    "Use `GridSearchCV` to tune the model's parameters"
   ]
  },
  {
   "cell_type": "code",
   "execution_count": 9,
   "metadata": {
    "tags": []
   },
   "outputs": [],
   "source": [
    "# Create the GridSearchCV model\n",
    "from sklearn.model_selection import GridSearchCV\n",
    "param_grid = {'C': [1, 5, 10, 50],\n",
    "              'gamma': [0.0001, 0.0005, 0.001, 0.005]}\n",
    "grid = GridSearchCV(model, param_grid, verbose=3)\n"
   ]
  },
  {
   "cell_type": "code",
   "execution_count": 10,
   "metadata": {
    "tags": []
   },
   "outputs": [
    {
     "output_type": "stream",
     "name": "stdout",
     "text": "Fitting 5 folds for each of 16 candidates, totalling 80 fits\n[CV] C=1, gamma=0.0001 ...............................................\n[Parallel(n_jobs=1)]: Using backend SequentialBackend with 1 concurrent workers.\n[CV] ................... C=1, gamma=0.0001, score=0.643, total=   1.2s\n[CV] C=1, gamma=0.0001 ...............................................\n[Parallel(n_jobs=1)]: Done   1 out of   1 | elapsed:    1.1s remaining:    0.0s\n[CV] ................... C=1, gamma=0.0001, score=0.659, total=   1.0s\n[CV] C=1, gamma=0.0001 ...............................................\n[Parallel(n_jobs=1)]: Done   2 out of   2 | elapsed:    2.1s remaining:    0.0s\n[CV] ................... C=1, gamma=0.0001, score=0.671, total=   1.2s\n[CV] C=1, gamma=0.0001 ...............................................\n[CV] ................... C=1, gamma=0.0001, score=0.659, total=   1.3s\n[CV] C=1, gamma=0.0001 ...............................................\n[CV] ................... C=1, gamma=0.0001, score=0.677, total=   2.1s\n[CV] C=1, gamma=0.0005 ...............................................\n[CV] ................... C=1, gamma=0.0005, score=0.643, total=   1.5s\n[CV] C=1, gamma=0.0005 ...............................................\n[CV] ................... C=1, gamma=0.0005, score=0.659, total=   1.1s\n[CV] C=1, gamma=0.0005 ...............................................\n[CV] ................... C=1, gamma=0.0005, score=0.671, total=   1.2s\n[CV] C=1, gamma=0.0005 ...............................................\n[CV] ................... C=1, gamma=0.0005, score=0.659, total=   1.1s\n[CV] C=1, gamma=0.0005 ...............................................\n[CV] ................... C=1, gamma=0.0005, score=0.677, total=   1.2s\n[CV] C=1, gamma=0.001 ................................................\n[CV] .................... C=1, gamma=0.001, score=0.643, total=   1.2s\n[CV] C=1, gamma=0.001 ................................................\n[CV] .................... C=1, gamma=0.001, score=0.659, total=   1.1s\n[CV] C=1, gamma=0.001 ................................................\n[CV] .................... C=1, gamma=0.001, score=0.671, total=   1.1s\n[CV] C=1, gamma=0.001 ................................................\n[CV] .................... C=1, gamma=0.001, score=0.659, total=   1.1s\n[CV] C=1, gamma=0.001 ................................................\n[CV] .................... C=1, gamma=0.001, score=0.677, total=   1.1s\n[CV] C=1, gamma=0.005 ................................................\n[CV] .................... C=1, gamma=0.005, score=0.643, total=   1.2s\n[CV] C=1, gamma=0.005 ................................................\n[CV] .................... C=1, gamma=0.005, score=0.659, total=   1.1s\n[CV] C=1, gamma=0.005 ................................................\n[CV] .................... C=1, gamma=0.005, score=0.671, total=   1.1s\n[CV] C=1, gamma=0.005 ................................................\n[CV] .................... C=1, gamma=0.005, score=0.659, total=   1.1s\n[CV] C=1, gamma=0.005 ................................................\n[CV] .................... C=1, gamma=0.005, score=0.677, total=   1.1s\n[CV] C=5, gamma=0.0001 ...............................................\n[CV] ................... C=5, gamma=0.0001, score=0.645, total=   2.2s\n[CV] C=5, gamma=0.0001 ...............................................\n[CV] ................... C=5, gamma=0.0001, score=0.653, total=   2.4s\n[CV] C=5, gamma=0.0001 ...............................................\n[CV] ................... C=5, gamma=0.0001, score=0.681, total=   2.2s\n[CV] C=5, gamma=0.0001 ...............................................\n[CV] ................... C=5, gamma=0.0001, score=0.665, total=   2.2s\n[CV] C=5, gamma=0.0001 ...............................................\n[CV] ................... C=5, gamma=0.0001, score=0.671, total=   2.4s\n[CV] C=5, gamma=0.0005 ...............................................\n[CV] ................... C=5, gamma=0.0005, score=0.645, total=   2.3s\n[CV] C=5, gamma=0.0005 ...............................................\n[CV] ................... C=5, gamma=0.0005, score=0.653, total=   2.3s\n[CV] C=5, gamma=0.0005 ...............................................\n[CV] ................... C=5, gamma=0.0005, score=0.681, total=   2.2s\n[CV] C=5, gamma=0.0005 ...............................................\n[CV] ................... C=5, gamma=0.0005, score=0.665, total=   2.2s\n[CV] C=5, gamma=0.0005 ...............................................\n[CV] ................... C=5, gamma=0.0005, score=0.671, total=   2.3s\n[CV] C=5, gamma=0.001 ................................................\n[CV] .................... C=5, gamma=0.001, score=0.645, total=   2.2s\n[CV] C=5, gamma=0.001 ................................................\n[CV] .................... C=5, gamma=0.001, score=0.653, total=   2.3s\n[CV] C=5, gamma=0.001 ................................................\n[CV] .................... C=5, gamma=0.001, score=0.681, total=   2.3s\n[CV] C=5, gamma=0.001 ................................................\n[CV] .................... C=5, gamma=0.001, score=0.665, total=   2.5s\n[CV] C=5, gamma=0.001 ................................................\n[CV] .................... C=5, gamma=0.001, score=0.671, total=   2.5s\n[CV] C=5, gamma=0.005 ................................................\n[CV] .................... C=5, gamma=0.005, score=0.645, total=   2.1s\n[CV] C=5, gamma=0.005 ................................................\n[CV] .................... C=5, gamma=0.005, score=0.653, total=   2.2s\n[CV] C=5, gamma=0.005 ................................................\n[CV] .................... C=5, gamma=0.005, score=0.681, total=   2.2s\n[CV] C=5, gamma=0.005 ................................................\n[CV] .................... C=5, gamma=0.005, score=0.665, total=   2.2s\n[CV] C=5, gamma=0.005 ................................................\n[CV] .................... C=5, gamma=0.005, score=0.671, total=   2.3s\n[CV] C=10, gamma=0.0001 ..............................................\n[CV] .................. C=10, gamma=0.0001, score=0.652, total=   3.5s\n[CV] C=10, gamma=0.0001 ..............................................\n[CV] .................. C=10, gamma=0.0001, score=0.662, total=   3.3s\n[CV] C=10, gamma=0.0001 ..............................................\n[CV] .................. C=10, gamma=0.0001, score=0.682, total=   3.3s\n[CV] C=10, gamma=0.0001 ..............................................\n[CV] .................. C=10, gamma=0.0001, score=0.662, total=   3.1s\n[CV] C=10, gamma=0.0001 ..............................................\n[CV] .................. C=10, gamma=0.0001, score=0.668, total=   3.7s\n[CV] C=10, gamma=0.0005 ..............................................\n[CV] .................. C=10, gamma=0.0005, score=0.652, total=   3.3s\n[CV] C=10, gamma=0.0005 ..............................................\n[CV] .................. C=10, gamma=0.0005, score=0.662, total=   3.4s\n[CV] C=10, gamma=0.0005 ..............................................\n[CV] .................. C=10, gamma=0.0005, score=0.682, total=   3.3s\n[CV] C=10, gamma=0.0005 ..............................................\n[CV] .................. C=10, gamma=0.0005, score=0.662, total=   3.1s\n[CV] C=10, gamma=0.0005 ..............................................\n[CV] .................. C=10, gamma=0.0005, score=0.668, total=   3.5s\n[CV] C=10, gamma=0.001 ...............................................\n[CV] ................... C=10, gamma=0.001, score=0.652, total=   3.4s\n[CV] C=10, gamma=0.001 ...............................................\n[CV] ................... C=10, gamma=0.001, score=0.662, total=   3.3s\n[CV] C=10, gamma=0.001 ...............................................\n[CV] ................... C=10, gamma=0.001, score=0.682, total=   3.3s\n[CV] C=10, gamma=0.001 ...............................................\n[CV] ................... C=10, gamma=0.001, score=0.662, total=   3.0s\n[CV] C=10, gamma=0.001 ...............................................\n[CV] ................... C=10, gamma=0.001, score=0.668, total=   3.4s\n[CV] C=10, gamma=0.005 ...............................................\n[CV] ................... C=10, gamma=0.005, score=0.652, total=   3.3s\n[CV] C=10, gamma=0.005 ...............................................\n[CV] ................... C=10, gamma=0.005, score=0.662, total=   3.3s\n[CV] C=10, gamma=0.005 ...............................................\n[CV] ................... C=10, gamma=0.005, score=0.682, total=   3.3s\n[CV] C=10, gamma=0.005 ...............................................\n[CV] ................... C=10, gamma=0.005, score=0.662, total=   3.1s\n[CV] C=10, gamma=0.005 ...............................................\n[CV] ................... C=10, gamma=0.005, score=0.668, total=   3.5s\n[CV] C=50, gamma=0.0001 ..............................................\n[CV] .................. C=50, gamma=0.0001, score=0.648, total=   9.6s\n[CV] C=50, gamma=0.0001 ..............................................\n[CV] .................. C=50, gamma=0.0001, score=0.653, total=  10.3s\n[CV] C=50, gamma=0.0001 ..............................................\n[CV] .................. C=50, gamma=0.0001, score=0.684, total=  12.4s\n[CV] C=50, gamma=0.0001 ..............................................\n[CV] .................. C=50, gamma=0.0001, score=0.662, total=   9.9s\n[CV] C=50, gamma=0.0001 ..............................................\n[CV] .................. C=50, gamma=0.0001, score=0.669, total=  11.5s\n[CV] C=50, gamma=0.0005 ..............................................\n[CV] .................. C=50, gamma=0.0005, score=0.648, total=  11.2s\n[CV] C=50, gamma=0.0005 ..............................................\n[CV] .................. C=50, gamma=0.0005, score=0.653, total=  10.1s\n[CV] C=50, gamma=0.0005 ..............................................\n[CV] .................. C=50, gamma=0.0005, score=0.684, total=  10.1s\n[CV] C=50, gamma=0.0005 ..............................................\n[CV] .................. C=50, gamma=0.0005, score=0.662, total=  10.1s\n[CV] C=50, gamma=0.0005 ..............................................\n[CV] .................. C=50, gamma=0.0005, score=0.669, total=  10.3s\n[CV] C=50, gamma=0.001 ...............................................\n[CV] ................... C=50, gamma=0.001, score=0.648, total=   9.8s\n[CV] C=50, gamma=0.001 ...............................................\n[CV] ................... C=50, gamma=0.001, score=0.653, total=  10.0s\n[CV] C=50, gamma=0.001 ...............................................\n[CV] ................... C=50, gamma=0.001, score=0.684, total=  10.5s\n[CV] C=50, gamma=0.001 ...............................................\n[CV] ................... C=50, gamma=0.001, score=0.662, total=   9.8s\n[CV] C=50, gamma=0.001 ...............................................\n[CV] ................... C=50, gamma=0.001, score=0.669, total=  10.3s\n[CV] C=50, gamma=0.005 ...............................................\n[CV] ................... C=50, gamma=0.005, score=0.648, total=   9.6s\n[CV] C=50, gamma=0.005 ...............................................\n[CV] ................... C=50, gamma=0.005, score=0.653, total=  10.2s\n[CV] C=50, gamma=0.005 ...............................................\n[CV] ................... C=50, gamma=0.005, score=0.684, total=  10.4s\n[CV] C=50, gamma=0.005 ...............................................\n[CV] ................... C=50, gamma=0.005, score=0.662, total=   9.9s\n[CV] C=50, gamma=0.005 ...............................................\n[CV] ................... C=50, gamma=0.005, score=0.669, total=  10.4s\n[Parallel(n_jobs=1)]: Done  80 out of  80 | elapsed:  5.7min finished\n"
    },
    {
     "output_type": "execute_result",
     "data": {
      "text/plain": "GridSearchCV(estimator=SVC(kernel='linear'),\n             param_grid={'C': [1, 5, 10, 50],\n                         'gamma': [0.0001, 0.0005, 0.001, 0.005]},\n             verbose=3)"
     },
     "metadata": {},
     "execution_count": 10
    }
   ],
   "source": [
    "# Train the model with GridSearch\n",
    "grid.fit(x_train_scaled, y_train_scaled)"
   ]
  },
  {
   "cell_type": "code",
   "execution_count": 11,
   "metadata": {
    "tags": []
   },
   "outputs": [
    {
     "output_type": "stream",
     "name": "stdout",
     "text": "{'C': 10, 'gamma': 0.0001}\n0.6650772455046245\n"
    }
   ],
   "source": [
    "print(grid.best_params_)\n",
    "print(grid.best_score_)"
   ]
  },
  {
   "cell_type": "markdown",
   "metadata": {},
   "source": [
    "# Save the Model"
   ]
  },
  {
   "cell_type": "code",
   "execution_count": 13,
   "metadata": {},
   "outputs": [
    {
     "output_type": "execute_result",
     "data": {
      "text/plain": "['model1.sav']"
     },
     "metadata": {},
     "execution_count": 13
    }
   ],
   "source": [
    "# save your model by updating \"your_name\" with your name\n",
    "# and \"your_model\" with your model variable\n",
    "# be sure to turn this in to BCS\n",
    "# if joblib fails to import, try running the command to install in terminal/git-bash\n",
    "import joblib\n",
    "filename = 'model1.sav'\n",
    "joblib.dump(model, filename)"
   ]
  }
 ],
 "metadata": {
  "kernel_info": {
   "name": "dev"
  },
  "kernelspec": {
   "display_name": "Python 3.8.3 64-bit",
   "language": "python",
   "name": "python38364bit78259f9f5bf9498e9eb367b28d2acc8c"
  },
  "language_info": {
   "codemirror_mode": {
    "name": "ipython",
    "version": 3
   },
   "file_extension": ".py",
   "mimetype": "text/x-python",
   "name": "python",
   "nbconvert_exporter": "python",
   "pygments_lexer": "ipython3",
   "version": "3.8.3-final"
  },
  "nteract": {
   "version": "0.12.3"
  }
 },
 "nbformat": 4,
 "nbformat_minor": 2
}